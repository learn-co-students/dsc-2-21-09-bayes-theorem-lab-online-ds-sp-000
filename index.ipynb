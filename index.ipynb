{
 "cells": [
  {
   "cell_type": "markdown",
   "metadata": {},
   "source": [
    "# Bayes' Theorem - Lab\n",
    "\n",
    "## Introduction\n",
    "\n",
    "In this lab, we shall try to put some of the formulas to practice that we came across with in the previous lesson. \n",
    "\n",
    "## Objectives\n",
    "* Understand and describe the Bayesian theorem from conditional probabilities\n",
    "* Describe the roles of Prior, Likehood and Posterior components of Bayes Theorem \n",
    "* Understand and perform simple applications of Bayes Theorem for sensitivity and specificity\n",
    "\n",
    "## Exercise 1\n",
    "### If a single card is drawn from a standard deck of playing cards, What is the probability of seeing a king ?"
   ]
  },
  {
   "cell_type": "code",
   "execution_count": 1,
   "metadata": {},
   "outputs": [
    {
     "data": {
      "text/plain": [
       "0.07692307692307693"
      ]
     },
     "execution_count": 1,
     "metadata": {},
     "output_type": "execute_result"
    }
   ],
   "source": [
    "# Your solution\n",
    "4/52"
   ]
  },
  {
   "cell_type": "markdown",
   "metadata": {},
   "source": [
    "### If evidence is provided (for instance, someone looks at the card) that the single card is a **face card**, what would be the posterior probability according to Bayes theorem?"
   ]
  },
  {
   "cell_type": "code",
   "execution_count": 2,
   "metadata": {},
   "outputs": [
    {
     "data": {
      "text/plain": [
       "0.3333333333333333"
      ]
     },
     "execution_count": 2,
     "metadata": {},
     "output_type": "execute_result"
    }
   ],
   "source": [
    "# Your Solution\n",
    "4 / (4 * 3)"
   ]
  },
  {
   "cell_type": "markdown",
   "metadata": {},
   "source": [
    "## Exercise 2\n",
    "#### 1. A couple has two children, the older of which is a boy. What is the probability that they have two boys?\n",
    "#### 2. A couple has two children, one of which is a boy. What is the probability that they have two boys?"
   ]
  },
  {
   "cell_type": "code",
   "execution_count": 3,
   "metadata": {},
   "outputs": [],
   "source": [
    "# Explain events as:\n",
    "# A = both children are boys\n",
    "# B = older child is a boy \n",
    "# C = One of the children is a boy"
   ]
  },
  {
   "cell_type": "code",
   "execution_count": 4,
   "metadata": {},
   "outputs": [
    {
     "name": "stdout",
     "output_type": "stream",
     "text": [
      "0.25 0.5 1\n"
     ]
    },
    {
     "data": {
      "text/plain": [
       "0.5"
      ]
     },
     "execution_count": 4,
     "metadata": {},
     "output_type": "execute_result"
    }
   ],
   "source": [
    "# Part 1\n",
    "# Your solution\n",
    "A = .5 * .5\n",
    "B = 1 * .5\n",
    "prob_B_given_A = 1\n",
    "print(A, B, prob_B_given_A)\n",
    "\n",
    "prob_A_given_B = A * prob_B_given_A / B\n",
    "prob_A_given_B"
   ]
  },
  {
   "cell_type": "code",
   "execution_count": 5,
   "metadata": {},
   "outputs": [
    {
     "data": {
      "text/plain": [
       "0.3333333333333333"
      ]
     },
     "execution_count": 5,
     "metadata": {},
     "output_type": "execute_result"
    }
   ],
   "source": [
    "# Part 2 \n",
    "# Your solution\n",
    "C = .75\n",
    "\n",
    "prob_C_given_A = 1\n",
    "prob_A_given_C = A * prob_C_given_A / C\n",
    "prob_A_given_C"
   ]
  },
  {
   "cell_type": "code",
   "execution_count": 6,
   "metadata": {},
   "outputs": [],
   "source": [
    "# A = both cards are Aces\n",
    "# B = one card is Ace of Spades\n",
    "# C = one card is an Ace"
   ]
  },
  {
   "cell_type": "code",
   "execution_count": 7,
   "metadata": {},
   "outputs": [
    {
     "data": {
      "text/plain": [
       "(0.058823529411764705, 17.0)"
      ]
     },
     "execution_count": 7,
     "metadata": {},
     "output_type": "execute_result"
    }
   ],
   "source": [
    "A = (4/52) * (3/51)\n",
    "B = (1/52) + (51/52) * (1/51)\n",
    "prob_B_given_A = 2/4\n",
    "prob_A_given_B = A * prob_B_given_A / B\n",
    "prob_A_given_B, 1/prob_A_given_B"
   ]
  },
  {
   "cell_type": "code",
   "execution_count": 8,
   "metadata": {},
   "outputs": [
    {
     "data": {
      "text/plain": [
       "(0.0303030303030303, 33.0)"
      ]
     },
     "execution_count": 8,
     "metadata": {},
     "output_type": "execute_result"
    }
   ],
   "source": [
    "C = (4/52) + (48/52) * (4/51)\n",
    "prob_C_given_A = 1\n",
    "prob_A_given_C = A * prob_C_given_A / C\n",
    "prob_A_given_C, 1/prob_A_given_C"
   ]
  },
  {
   "cell_type": "markdown",
   "metadata": {},
   "source": [
    "## Exercise 3 - Bayesian Disease Diagnosis\n",
    "\n",
    "[Visit this link for an insight into Bayesian Disease Daignosis](http://doingbayesiandataanalysis.blogspot.com/2013/01/bayesian-disease-diagnosis-with.html)\n",
    "\n"
   ]
  },
  {
   "cell_type": "markdown",
   "metadata": {},
   "source": [
    "A disease test is advertised as being 99% accurate \n",
    "\n",
    "* If a patient has the disease,they  will test positive 99% of the time.\n",
    "\n",
    "* If you don't have the disease, they will test negative 99% of the time. \n",
    "\n",
    "* 1% of all people have this disease \n",
    "\n",
    "#### Now a patient tests positive, what is the probability that you actually have the disease?"
   ]
  },
  {
   "cell_type": "code",
   "execution_count": 9,
   "metadata": {},
   "outputs": [],
   "source": [
    "# Your solution\n",
    "# A = Patient has disease\n",
    "# B = Patient tests positive for disease"
   ]
  },
  {
   "cell_type": "code",
   "execution_count": 10,
   "metadata": {},
   "outputs": [
    {
     "data": {
      "text/plain": [
       "0.5"
      ]
     },
     "execution_count": 10,
     "metadata": {},
     "output_type": "execute_result"
    }
   ],
   "source": [
    "# prob_A_given_B\n",
    "A = .01\n",
    "B = A * .99 + (1-A) * .01\n",
    "prob_B_given_A = .99\n",
    "prob_A_given_B = A * prob_B_given_A / B\n",
    "prob_A_given_B"
   ]
  },
  {
   "cell_type": "markdown",
   "metadata": {},
   "source": [
    "## Summary \n",
    "\n",
    "In this lab, we saw a few simple examples of Bayesian logic and how we can add prior information to our calculation, in order to update our beliefs about the certain events. Bayesian logic works in numerous ways and it is not within the scope of this section to give you a deep dive in complex Bayesian problems. You are advised to re-visit the provided links when you have a better understanding of Bayesian inference. "
   ]
  },
  {
   "cell_type": "markdown",
   "metadata": {},
   "source": [
    "## Experiment\n",
    "Test Bayes Theorem by generating a card deck and drawing two cards 10,000 times in two different simulations. For the first simulation, if you know that one of the cards is the Ace of Spades, determine the probability that both cards will be aces. If you know at least one of the cards is an ace (without knowing the suit), what is the probability that both cards will be aces?"
   ]
  },
  {
   "cell_type": "code",
   "execution_count": 11,
   "metadata": {},
   "outputs": [],
   "source": [
    "nums = ['A', 2, 3, 4, 5, 6, 7, 8, 9, 10, 'J', 'Q', 'K']\n",
    "suits = ['S', 'C', 'D', 'H']"
   ]
  },
  {
   "cell_type": "code",
   "execution_count": 12,
   "metadata": {},
   "outputs": [
    {
     "data": {
      "text/plain": [
       "0.0573"
      ]
     },
     "execution_count": 12,
     "metadata": {},
     "output_type": "execute_result"
    }
   ],
   "source": [
    "import numpy as np\n",
    "\n",
    "two_aces = 0\n",
    "\n",
    "for i in range(10000):\n",
    "    deck = []\n",
    "    for num in nums:\n",
    "        for suit in suits:\n",
    "            deck.append(str(num) + suit)\n",
    "    np.random.shuffle(deck)\n",
    "    card_1 = deck.pop()\n",
    "    if card_1 == 'AS':\n",
    "        card_2 = deck.pop()\n",
    "    else:\n",
    "        card_2 = 'AS'\n",
    "    if 'A' in card_1 and 'A' in card_2:\n",
    "        two_aces += 1\n",
    "\n",
    "np.round(two_aces / 10000, 4)"
   ]
  },
  {
   "cell_type": "code",
   "execution_count": 13,
   "metadata": {},
   "outputs": [
    {
     "data": {
      "text/plain": [
       "0.0316"
      ]
     },
     "execution_count": 13,
     "metadata": {},
     "output_type": "execute_result"
    }
   ],
   "source": [
    "two_aces = []\n",
    "counter = 0\n",
    "\n",
    "while counter < 10000:\n",
    "    deck = []\n",
    "    for num in nums:\n",
    "        for suit in suits:\n",
    "            deck.append(str(num) + suit)\n",
    "    np.random.shuffle(deck)\n",
    "    card_1, card_2 = deck.pop(), deck.pop()\n",
    "    if 'A' in card_1 or 'A' in card_2:\n",
    "        counter += 1\n",
    "    if 'A' in card_1 and 'A' in card_2:\n",
    "        two_aces.append((card_1, card_2))\n",
    "np.round(len(two_aces) / counter, 4)"
   ]
  },
  {
   "cell_type": "markdown",
   "metadata": {},
   "source": [
    "### Observations\n",
    "Though I do not understand why this should make a difference, it is clear that knowing the specific Ace to be drawn dramatically increases the chances that two aces are drawn."
   ]
  },
  {
   "cell_type": "code",
   "execution_count": null,
   "metadata": {},
   "outputs": [],
   "source": []
  }
 ],
 "metadata": {
  "kernelspec": {
   "display_name": "Python 3",
   "language": "python",
   "name": "python3"
  },
  "language_info": {
   "codemirror_mode": {
    "name": "ipython",
    "version": 3
   },
   "file_extension": ".py",
   "mimetype": "text/x-python",
   "name": "python",
   "nbconvert_exporter": "python",
   "pygments_lexer": "ipython3",
   "version": "3.6.6"
  }
 },
 "nbformat": 4,
 "nbformat_minor": 2
}
